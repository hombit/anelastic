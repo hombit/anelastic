{
 "cells": [
  {
   "cell_type": "code",
   "execution_count": 3,
   "metadata": {
    "collapsed": true
   },
   "outputs": [],
   "source": [
    "from polynomcoeffs import DifEq\n",
    "from tools import plotPolynomial\n",
    "import sympy\n",
    "import numpy as np"
   ]
  },
  {
   "cell_type": "code",
   "execution_count": 18,
   "metadata": {
    "collapsed": false
   },
   "outputs": [
    {
     "name": "stdout",
     "output_type": "stream",
     "text": [
      "[  1.00000000e+00 +0.00000000e+00j   2.37829035e-18 -7.29160825e-18j\n",
      "  -2.02869667e-03 +2.71419463e-03j  -1.43229621e-16 +4.93853967e-17j\n",
      "   1.00405197e-01 -5.44674352e-04j  -8.58311788e-17 +2.92847303e-17j\n",
      "   6.68787410e-02 -2.82846119e-04j  -6.33652684e-17 +2.16581418e-17j\n",
      "   5.11724445e-02 -2.30231610e-04j  -4.99228535e-17 +1.70713075e-17j\n",
      "   4.13232231e-02 -1.89988514e-04j  -4.11352152e-17 +1.40696565e-17j\n",
      "   3.46269597e-02 -1.61084248e-04j  -3.49609215e-17 +1.19595074e-17j\n",
      "   2.97883321e-02 -1.39576379e-04j  -3.03915117e-17 +1.03979118e-17j\n",
      "   2.61315931e-02 -1.22830952e-04j  -2.69213228e-17 +9.20506846e-18j\n",
      "   2.32675926e-02 -1.07898864e-04j  -2.51643959e-17 +7.40865167e-18j\n",
      "   2.11607383e-02 +3.34741911e-04j  -2.68413998e-17 -4.96476209e-17j\n",
      "   4.14634323e-02 -3.70518631e-02j   6.89615071e-16 -2.69267014e-16j\n",
      "  -1.43418956e+00 +3.57820576e-02j]\n",
      "(0.073551953125-0.0366030273438j)\n"
     ]
    }
   ],
   "source": [
    "krz0 = 1.\n",
    "kappa = 1.\n",
    "gamma = 5./3.\n",
    "n = 2.\n",
    "\n",
    "p1 = sympy.Function('p1')\n",
    "fs = np.array( [p1], dtype=sympy.Function )\n",
    "xi = sympy.Symbol('xi')\n",
    "omega = sympy.Symbol('omega')\n",
    "Nz2 = -2/gamma * (1 - 2./3.*n) * xi**2 / (1 - xi**2)\n",
    "eqs = [\n",
    "    (\n",
    "        + sympy.diff(p1(xi), xi, 2) +\\\n",
    "            - p1(xi) * krz0**2 * (omega**2 - Nz2) / (omega**2 - kappa**2) +\\\n",
    "            + sympy.diff(p1(xi), xi, 1) * sympy.diff(Nz2, xi, 1) / (omega**2 - Nz2),\n",
    "        2.\n",
    "    ),\n",
    "]\n",
    "boundconds = [\n",
    "    (\n",
    "        sympy.diff(p1(xi)),\n",
    "        0.\n",
    "    ),\n",
    "    (\n",
    "        p1(xi),\n",
    "        1.\n",
    "    ),\n",
    "]\n",
    "\n",
    "de = DifEq(\n",
    "    fs,\n",
    "    eqs,\n",
    "    boundconds,\n",
    "    omega,\n",
    "    24,\n",
    ")\n",
    "\n",
    "omeg_lb = 0.06 + 0.0j\n",
    "omeg_rt = 0.08 - 0.05j\n",
    "n_omeg = 100\n",
    "de.drawDeterminantMap(\n",
    "    np.linspace(omeg_lb.real, omeg_rt.real, n_omeg),\n",
    "    np.linspace(omeg_lb.imag, omeg_rt.imag, n_omeg),\n",
    "    filename='/tmp/det_map.pdf',\n",
    ")\n",
    "\n",
    "omeg0 = lambda harmonic: np.sqrt( kappa**2 / ( 1 + krz0**2 / ( (harmonic + 0.5) * np.pi )**2 ) )\n",
    "de.findEigenValue( 0.074 - 0.035j, force_complex=True )\n",
    "cs_dict = de.computeEigenFunctions( f_symbol=p1, calibr_k=0 )\n",
    "print( cs_dict[p1] )\n",
    "print( de.ev )"
   ]
  },
  {
   "cell_type": "code",
   "execution_count": null,
   "metadata": {
    "collapsed": true
   },
   "outputs": [],
   "source": [
    ""
   ]
  }
 ],
 "metadata": {
  "kernelspec": {
   "display_name": "Python 3",
   "language": "python",
   "name": "python3"
  },
  "language_info": {
   "codemirror_mode": {
    "name": "ipython",
    "version": 3.0
   },
   "file_extension": ".py",
   "mimetype": "text/x-python",
   "name": "python",
   "nbconvert_exporter": "python",
   "pygments_lexer": "ipython3",
   "version": "3.5.1"
  }
 },
 "nbformat": 4,
 "nbformat_minor": 0
}